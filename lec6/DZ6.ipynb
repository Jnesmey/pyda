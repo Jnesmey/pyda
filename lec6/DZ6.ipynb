{
 "cells": [
  {
   "cell_type": "code",
   "execution_count": 1,
   "metadata": {},
   "outputs": [],
   "source": [
    "# ЗАДАНИЕ 1 ФОРМИРОВАНИЕ СЛОВАРЯ\n",
    "\n",
    "import json\n",
    "\n",
    "purchases = {}\n",
    "with open('purchase_log.txt', encoding = 'UTF-8') as f:\n",
    "    next(f)\n",
    "    for line in f:\n",
    "        dict_ = json.loads(line)\n",
    "        purchases.update({dict_['user_id']:dict_['category']})\n",
    "f.close()\n",
    "\n",
    "            "
   ]
  },
  {
   "cell_type": "code",
   "execution_count": 2,
   "metadata": {},
   "outputs": [],
   "source": [
    "# ЗАДАНИЕ 2 ЗАПИСЬ ФАЙЛА\n",
    "\n",
    "with open('visit_log.csv', 'r', encoding = 'UTF-8') as f1:\n",
    "    next(f1)\n",
    "    with open('funnel.csv', 'w', encoding = 'UTF-8') as f2:\n",
    "        for line in f1:\n",
    "            lists = (line.strip().split(','))\n",
    "            categor = purchases.get(lists[0])\n",
    "            lists.append(categor)\n",
    "            if categor != None:\n",
    "                f2.write(', '.join(lists) + '\\n')\n",
    "    f2.close()           \n",
    "f1.close()             \n",
    "           "
   ]
  },
  {
   "cell_type": "code",
   "execution_count": null,
   "metadata": {},
   "outputs": [],
   "source": []
  }
 ],
 "metadata": {
  "kernelspec": {
   "display_name": "Python 3",
   "language": "python",
   "name": "python3"
  },
  "language_info": {
   "codemirror_mode": {
    "name": "ipython",
    "version": 3
   },
   "file_extension": ".py",
   "mimetype": "text/x-python",
   "name": "python",
   "nbconvert_exporter": "python",
   "pygments_lexer": "ipython3",
   "version": "3.8.3"
  }
 },
 "nbformat": 4,
 "nbformat_minor": 4
}
