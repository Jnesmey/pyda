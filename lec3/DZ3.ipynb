{
 "cells": [
  {
   "cell_type": "code",
   "execution_count": 2,
   "metadata": {},
   "outputs": [
    {
     "name": "stdout",
     "output_type": "stream",
     "text": [
      "Введите слово: qwerq\n",
      "e\n"
     ]
    }
   ],
   "source": [
    "# ЗАДАЧА 1 ВЫВОД БУКВ\n",
    "\n",
    "word = input(\"Введите слово: \")\n",
    "num1 = int(len(word) / 2)\n",
    "if len(word) % 2 == 0:\n",
    "    print(word[num1 - 1:num1 + 1])\n",
    "else:\n",
    "    print(word[num1])\n"
   ]
  },
  {
   "cell_type": "code",
   "execution_count": 3,
   "metadata": {},
   "outputs": [
    {
     "name": "stdout",
     "output_type": "stream",
     "text": [
      "Введите число: 1\n",
      "Введите число: 2\n",
      "Введите число: 0\n",
      "Результат: 3\n"
     ]
    }
   ],
   "source": [
    "# ЗАДАЧА 2 ВЫВОД СУММЫ ЧИСЕЛ\n",
    "\n",
    "summ = 0\n",
    "while True:\n",
    "    num = int(input(\"Введите число: \"))\n",
    "    summ += num \n",
    "    if num == 0:\n",
    "            print(f'Результат: {summ}')\n",
    "            break"
   ]
  },
  {
   "cell_type": "code",
   "execution_count": 18,
   "metadata": {},
   "outputs": [
    {
     "name": "stdout",
     "output_type": "stream",
     "text": [
      "Идеальные пары:\n",
      "Arthur и Emma\n",
      "John и Kate\n",
      "Peter и Kira\n",
      "Richard и Liza\n",
      "William и Trisha\n"
     ]
    }
   ],
   "source": [
    "# ЗАДАЧА 3 ИДЕАЛЬНЫЕ ПАРЫ\n",
    "\n",
    "boys = ['John' , 'William', 'Peter','Richard','Arthur']\n",
    "girls = ['Kate', 'Liza', 'Kira', 'Emma','Trisha']\n",
    "boys.sort()\n",
    "girls.sort()\n",
    "if len(boys) == len(girls):\n",
    "    print(\"Идеальные пары:\")\n",
    "    for boy, girl in zip(boys, girls):\n",
    "        print(f'{boy} и {girl}')\n",
    "else:\n",
    "    print(\"Внимание, кто-то может остаться без пары!\")\n",
    "    \n"
   ]
  },
  {
   "cell_type": "code",
   "execution_count": 5,
   "metadata": {},
   "outputs": [
    {
     "name": "stdout",
     "output_type": "stream",
     "text": [
      "Средняя температура в странах: \n",
      "\n",
      "Thailand - 24 C\n",
      "Germany - 14 C\n",
      "Russia - 4 C\n",
      "Poland - 12 C\n"
     ]
    }
   ],
   "source": [
    "# ЗАДАЧА 4 ТЕМПЕРАТУРА\n",
    "\n",
    "countries_temperature = [\n",
    "    ['Thailand', [75.2, 77, 78.8, 73.4, 68, 75.2, 77]],\n",
    "    ['Germany', [57.2, 55.4, 59, 59, 53.6]],\n",
    "    ['Russia', [35.6, 37.4, 39.2, 41, 42.8, 39.2, 35.6]],\n",
    "    ['Poland', [50, 50, 53.6, 57.2, 55.4, 55.4]]\n",
    "]\n",
    "print('Средняя температура в странах:', '\\n')\n",
    "for country in countries_temperature:\n",
    "    print(f'{country[0]} - {round(((sum(country[1])/len(country[1]))-32)/1.8)} C')"
   ]
  },
  {
   "cell_type": "code",
   "execution_count": 20,
   "metadata": {},
   "outputs": [
    {
     "name": "stdout",
     "output_type": "stream",
     "text": [
      " Среднее количество просмотров на уникального пользователя 214.0\n"
     ]
    }
   ],
   "source": [
    "# ЗАДАЧА 5 ПРОСМОТРЫ\n",
    "\n",
    "streams = [\n",
    "'2018-01-01,user100,150',\n",
    "'2018-01-07,user99,205',\n",
    "'2018-03-29,user1001,81',\n",
    "'2018-01-07,user99,206',\n",
    "]\n",
    "a = []\n",
    "b = []\n",
    "for stream in streams:\n",
    "    splitted_stream = stream.split(',')\n",
    "    user = splitted_stream[1]\n",
    "    views = int(splitted_stream[2])\n",
    "    b.append(views)\n",
    "    if user not in a:\n",
    "        a.append(user)\n",
    "print(f' Среднее количество просмотров на уникального пользователя {sum(b)/len(a)}')"
   ]
  },
  {
   "cell_type": "code",
   "execution_count": 1,
   "metadata": {},
   "outputs": [
    {
     "name": "stdout",
     "output_type": "stream",
     "text": [
      "2134 24\n",
      "2 4\n"
     ]
    }
   ],
   "source": [
    "# ЗАДАЧА 6 ПОВТОРЯЮЩИЕСЯ ЧИСЛА\n",
    "\n",
    "my_list = []\n",
    "un_list = []\n",
    "inp_string = input()\n",
    "for i in inp_string:\n",
    "    if inp_string.count(i) > 1 and i not in my_list and i != \" \":\n",
    "        my_list.append(i)\n",
    "print(' '.join(my_list))"
   ]
  }
 ],
 "metadata": {
  "kernelspec": {
   "display_name": "Python 3",
   "language": "python",
   "name": "python3"
  },
  "language_info": {
   "codemirror_mode": {
    "name": "ipython",
    "version": 3
   },
   "file_extension": ".py",
   "mimetype": "text/x-python",
   "name": "python",
   "nbconvert_exporter": "python",
   "pygments_lexer": "ipython3",
   "version": "3.8.3"
  }
 },
 "nbformat": 4,
 "nbformat_minor": 4
}
