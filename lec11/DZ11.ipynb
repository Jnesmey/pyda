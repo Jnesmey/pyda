{
 "cells": [
  {
   "cell_type": "code",
   "execution_count": 1,
   "metadata": {},
   "outputs": [],
   "source": [
    "import pandas as pd"
   ]
  },
  {
   "cell_type": "code",
   "execution_count": 2,
   "metadata": {},
   "outputs": [
    {
     "name": "stdout",
     "output_type": "stream",
     "text": [
      "Фильм с наибольшим числом оценок 5.0: Shawshank Redemption, The (1994)    48762\n",
      "Name: title, dtype: int64\n"
     ]
    }
   ],
   "source": [
    "# ЗАДАНИЕ №1 ФИЛЬМ С НАИБОЛЬШИМ ЧИСЛОМ ОЦЕНОК \"5\"\n",
    "\n",
    "data = pd.read_csv('ratings.csv')\n",
    "data_5 = data[data.rating == 5] \n",
    "movies = pd.read_csv('movies.csv')\n",
    "joined = data_5.merge(movies, on='movieId', how='left')\n",
    "a = joined['title'].value_counts().head(1)\n",
    "print(f\"Фильм с наибольшим числом оценок 5.0: {a}\")"
   ]
  },
  {
   "cell_type": "code",
   "execution_count": 3,
   "metadata": {},
   "outputs": [
    {
     "name": "stdout",
     "output_type": "stream",
     "text": [
      "Суммарное потребление: 240580.0\n"
     ]
    }
   ],
   "source": [
    "# ЗАДАНИЕ №2 СУММАРНОЕ ПОТРЕБЛЕНИЕ СТРАН ПРИБАЛТИКИ\n",
    "\n",
    "power = pd.read_csv('power.csv')\n",
    "f1_power = power[ (power['country']=='Latvia') | (power['country']=='Estonia')| (power['country']=='Lithuania') ]\n",
    "f2_power = f1_power[ (f1_power['category']==4) | (f1_power['category']==12)| (f1_power['category']==21) ]\n",
    "f3_power = f2_power[ (f2_power['year']>=2005) & (f2_power['year']<=2010) & (f2_power['quantity']>=0)]\n",
    "f3_power.sort_values(by='quantity').head()\n",
    "a = f3_power.quantity.sum()\n",
    "print(f\"Суммарное потребление: {a}\")\n"
   ]
  },
  {
   "cell_type": "code",
   "execution_count": 5,
   "metadata": {},
   "outputs": [
    {
     "data": {
      "text/plain": [
       "[     0       1      2        3       4      5        6       7      8   \\\n",
       " 0  ММВБ   2 800  -0,6%   Nasdaq  11 672  -0,4%  Биткойн  11 393   0,2%   \n",
       " 1   РТС   1 133   0,1%   S&P500   3 484   0,0%    Нефть     429  -0,4%   \n",
       " 2   Dow  28 606   0,4%  FTSE100   5 920   1,5%   Золото   1 899  -0,5%   \n",
       " \n",
       "         9       10     11  \n",
       " 0  USD/RUB  779262  -0,1%  \n",
       " 1  EUR/RUB  911850   0,0%  \n",
       " 2  EUR/USD   11717   0,1%  ]"
      ]
     },
     "execution_count": 5,
     "metadata": {},
     "output_type": "execute_result"
    }
   ],
   "source": [
    "# ЗАДАНИЕ №3 ИМПОРТ ТАБЛИЦ\n",
    "\n",
    "page_url = 'https://www.finanz.ru/valyuty/v-realnom-vremeni'\n",
    "data = pd.read_html(page_url, attrs = {'class': 'header_user_pricebox'}, encoding='utf-8')\n",
    "data[:5]"
   ]
  }
 ],
 "metadata": {
  "kernelspec": {
   "display_name": "Python 3",
   "language": "python",
   "name": "python3"
  },
  "language_info": {
   "codemirror_mode": {
    "name": "ipython",
    "version": 3
   },
   "file_extension": ".py",
   "mimetype": "text/x-python",
   "name": "python",
   "nbconvert_exporter": "python",
   "pygments_lexer": "ipython3",
   "version": "3.8.3"
  }
 },
 "nbformat": 4,
 "nbformat_minor": 4
}
