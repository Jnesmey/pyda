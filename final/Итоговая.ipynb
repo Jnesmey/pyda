{
 "cells": [
  {
   "cell_type": "code",
   "execution_count": 1,
   "metadata": {},
   "outputs": [],
   "source": [
    "import pandas as pd\n",
    "import matplotlib.pyplot as plt\n",
    "import seaborn as sns"
   ]
  },
  {
   "cell_type": "code",
   "execution_count": 2,
   "metadata": {},
   "outputs": [],
   "source": [
    "from pylab import rcParams\n",
    "rcParams['figure.figsize'] = 13,6"
   ]
  },
  {
   "cell_type": "code",
   "execution_count": 3,
   "metadata": {},
   "outputs": [
    {
     "data": {
      "text/html": [
       "<div>\n",
       "<style scoped>\n",
       "    .dataframe tbody tr th:only-of-type {\n",
       "        vertical-align: middle;\n",
       "    }\n",
       "\n",
       "    .dataframe tbody tr th {\n",
       "        vertical-align: top;\n",
       "    }\n",
       "\n",
       "    .dataframe thead th {\n",
       "        text-align: right;\n",
       "    }\n",
       "</style>\n",
       "<table border=\"1\" class=\"dataframe\">\n",
       "  <thead>\n",
       "    <tr style=\"text-align: right;\">\n",
       "      <th></th>\n",
       "      <th>satisfaction_level</th>\n",
       "      <th>last_evaluation</th>\n",
       "      <th>number_project</th>\n",
       "      <th>average_montly_hours</th>\n",
       "      <th>time_spend_company</th>\n",
       "      <th>Work_accident</th>\n",
       "      <th>left</th>\n",
       "      <th>promotion_last_5years</th>\n",
       "      <th>department</th>\n",
       "      <th>salary</th>\n",
       "    </tr>\n",
       "  </thead>\n",
       "  <tbody>\n",
       "    <tr>\n",
       "      <th>0</th>\n",
       "      <td>0.38</td>\n",
       "      <td>0.53</td>\n",
       "      <td>2</td>\n",
       "      <td>157</td>\n",
       "      <td>3</td>\n",
       "      <td>0</td>\n",
       "      <td>1</td>\n",
       "      <td>0</td>\n",
       "      <td>sales</td>\n",
       "      <td>low</td>\n",
       "    </tr>\n",
       "    <tr>\n",
       "      <th>1</th>\n",
       "      <td>0.80</td>\n",
       "      <td>0.86</td>\n",
       "      <td>5</td>\n",
       "      <td>262</td>\n",
       "      <td>6</td>\n",
       "      <td>0</td>\n",
       "      <td>1</td>\n",
       "      <td>0</td>\n",
       "      <td>sales</td>\n",
       "      <td>medium</td>\n",
       "    </tr>\n",
       "    <tr>\n",
       "      <th>2</th>\n",
       "      <td>0.11</td>\n",
       "      <td>0.88</td>\n",
       "      <td>7</td>\n",
       "      <td>272</td>\n",
       "      <td>4</td>\n",
       "      <td>0</td>\n",
       "      <td>1</td>\n",
       "      <td>0</td>\n",
       "      <td>sales</td>\n",
       "      <td>medium</td>\n",
       "    </tr>\n",
       "    <tr>\n",
       "      <th>3</th>\n",
       "      <td>0.72</td>\n",
       "      <td>0.87</td>\n",
       "      <td>5</td>\n",
       "      <td>223</td>\n",
       "      <td>5</td>\n",
       "      <td>0</td>\n",
       "      <td>1</td>\n",
       "      <td>0</td>\n",
       "      <td>sales</td>\n",
       "      <td>low</td>\n",
       "    </tr>\n",
       "    <tr>\n",
       "      <th>4</th>\n",
       "      <td>0.37</td>\n",
       "      <td>0.52</td>\n",
       "      <td>2</td>\n",
       "      <td>159</td>\n",
       "      <td>3</td>\n",
       "      <td>0</td>\n",
       "      <td>1</td>\n",
       "      <td>0</td>\n",
       "      <td>sales</td>\n",
       "      <td>low</td>\n",
       "    </tr>\n",
       "    <tr>\n",
       "      <th>5</th>\n",
       "      <td>0.41</td>\n",
       "      <td>0.50</td>\n",
       "      <td>2</td>\n",
       "      <td>153</td>\n",
       "      <td>3</td>\n",
       "      <td>0</td>\n",
       "      <td>1</td>\n",
       "      <td>0</td>\n",
       "      <td>sales</td>\n",
       "      <td>low</td>\n",
       "    </tr>\n",
       "    <tr>\n",
       "      <th>6</th>\n",
       "      <td>0.10</td>\n",
       "      <td>0.77</td>\n",
       "      <td>6</td>\n",
       "      <td>247</td>\n",
       "      <td>4</td>\n",
       "      <td>0</td>\n",
       "      <td>1</td>\n",
       "      <td>0</td>\n",
       "      <td>sales</td>\n",
       "      <td>low</td>\n",
       "    </tr>\n",
       "    <tr>\n",
       "      <th>7</th>\n",
       "      <td>0.92</td>\n",
       "      <td>0.85</td>\n",
       "      <td>5</td>\n",
       "      <td>259</td>\n",
       "      <td>5</td>\n",
       "      <td>0</td>\n",
       "      <td>1</td>\n",
       "      <td>0</td>\n",
       "      <td>sales</td>\n",
       "      <td>low</td>\n",
       "    </tr>\n",
       "    <tr>\n",
       "      <th>8</th>\n",
       "      <td>0.89</td>\n",
       "      <td>1.00</td>\n",
       "      <td>5</td>\n",
       "      <td>224</td>\n",
       "      <td>5</td>\n",
       "      <td>0</td>\n",
       "      <td>1</td>\n",
       "      <td>0</td>\n",
       "      <td>sales</td>\n",
       "      <td>low</td>\n",
       "    </tr>\n",
       "    <tr>\n",
       "      <th>9</th>\n",
       "      <td>0.42</td>\n",
       "      <td>0.53</td>\n",
       "      <td>2</td>\n",
       "      <td>142</td>\n",
       "      <td>3</td>\n",
       "      <td>0</td>\n",
       "      <td>1</td>\n",
       "      <td>0</td>\n",
       "      <td>sales</td>\n",
       "      <td>low</td>\n",
       "    </tr>\n",
       "  </tbody>\n",
       "</table>\n",
       "</div>"
      ],
      "text/plain": [
       "   satisfaction_level  last_evaluation  number_project  average_montly_hours  \\\n",
       "0                0.38             0.53               2                   157   \n",
       "1                0.80             0.86               5                   262   \n",
       "2                0.11             0.88               7                   272   \n",
       "3                0.72             0.87               5                   223   \n",
       "4                0.37             0.52               2                   159   \n",
       "5                0.41             0.50               2                   153   \n",
       "6                0.10             0.77               6                   247   \n",
       "7                0.92             0.85               5                   259   \n",
       "8                0.89             1.00               5                   224   \n",
       "9                0.42             0.53               2                   142   \n",
       "\n",
       "   time_spend_company  Work_accident  left  promotion_last_5years department  \\\n",
       "0                   3              0     1                      0      sales   \n",
       "1                   6              0     1                      0      sales   \n",
       "2                   4              0     1                      0      sales   \n",
       "3                   5              0     1                      0      sales   \n",
       "4                   3              0     1                      0      sales   \n",
       "5                   3              0     1                      0      sales   \n",
       "6                   4              0     1                      0      sales   \n",
       "7                   5              0     1                      0      sales   \n",
       "8                   5              0     1                      0      sales   \n",
       "9                   3              0     1                      0      sales   \n",
       "\n",
       "   salary  \n",
       "0     low  \n",
       "1  medium  \n",
       "2  medium  \n",
       "3     low  \n",
       "4     low  \n",
       "5     low  \n",
       "6     low  \n",
       "7     low  \n",
       "8     low  \n",
       "9     low  "
      ]
     },
     "execution_count": 3,
     "metadata": {},
     "output_type": "execute_result"
    }
   ],
   "source": [
    "df = pd.read_csv(\"HR.csv\")\n",
    "df.head(10)"
   ]
  },
  {
   "cell_type": "code",
   "execution_count": 4,
   "metadata": {},
   "outputs": [
    {
     "data": {
      "text/html": [
       "<div>\n",
       "<style scoped>\n",
       "    .dataframe tbody tr th:only-of-type {\n",
       "        vertical-align: middle;\n",
       "    }\n",
       "\n",
       "    .dataframe tbody tr th {\n",
       "        vertical-align: top;\n",
       "    }\n",
       "\n",
       "    .dataframe thead th {\n",
       "        text-align: right;\n",
       "    }\n",
       "</style>\n",
       "<table border=\"1\" class=\"dataframe\">\n",
       "  <thead>\n",
       "    <tr style=\"text-align: right;\">\n",
       "      <th></th>\n",
       "      <th>satisfaction_level</th>\n",
       "      <th>last_evaluation</th>\n",
       "      <th>number_project</th>\n",
       "      <th>average_montly_hours</th>\n",
       "      <th>time_spend_company</th>\n",
       "      <th>Work_accident</th>\n",
       "      <th>left</th>\n",
       "      <th>promotion_last_5years</th>\n",
       "    </tr>\n",
       "  </thead>\n",
       "  <tbody>\n",
       "    <tr>\n",
       "      <th>count</th>\n",
       "      <td>14999.000000</td>\n",
       "      <td>14999.000000</td>\n",
       "      <td>14999.000000</td>\n",
       "      <td>14999.000000</td>\n",
       "      <td>14999.000000</td>\n",
       "      <td>14999.000000</td>\n",
       "      <td>14999.000000</td>\n",
       "      <td>14999.000000</td>\n",
       "    </tr>\n",
       "    <tr>\n",
       "      <th>mean</th>\n",
       "      <td>0.612834</td>\n",
       "      <td>0.716102</td>\n",
       "      <td>3.803054</td>\n",
       "      <td>201.050337</td>\n",
       "      <td>3.498233</td>\n",
       "      <td>0.144610</td>\n",
       "      <td>0.238083</td>\n",
       "      <td>0.021268</td>\n",
       "    </tr>\n",
       "    <tr>\n",
       "      <th>std</th>\n",
       "      <td>0.248631</td>\n",
       "      <td>0.171169</td>\n",
       "      <td>1.232592</td>\n",
       "      <td>49.943099</td>\n",
       "      <td>1.460136</td>\n",
       "      <td>0.351719</td>\n",
       "      <td>0.425924</td>\n",
       "      <td>0.144281</td>\n",
       "    </tr>\n",
       "    <tr>\n",
       "      <th>min</th>\n",
       "      <td>0.090000</td>\n",
       "      <td>0.360000</td>\n",
       "      <td>2.000000</td>\n",
       "      <td>96.000000</td>\n",
       "      <td>2.000000</td>\n",
       "      <td>0.000000</td>\n",
       "      <td>0.000000</td>\n",
       "      <td>0.000000</td>\n",
       "    </tr>\n",
       "    <tr>\n",
       "      <th>25%</th>\n",
       "      <td>0.440000</td>\n",
       "      <td>0.560000</td>\n",
       "      <td>3.000000</td>\n",
       "      <td>156.000000</td>\n",
       "      <td>3.000000</td>\n",
       "      <td>0.000000</td>\n",
       "      <td>0.000000</td>\n",
       "      <td>0.000000</td>\n",
       "    </tr>\n",
       "    <tr>\n",
       "      <th>50%</th>\n",
       "      <td>0.640000</td>\n",
       "      <td>0.720000</td>\n",
       "      <td>4.000000</td>\n",
       "      <td>200.000000</td>\n",
       "      <td>3.000000</td>\n",
       "      <td>0.000000</td>\n",
       "      <td>0.000000</td>\n",
       "      <td>0.000000</td>\n",
       "    </tr>\n",
       "    <tr>\n",
       "      <th>75%</th>\n",
       "      <td>0.820000</td>\n",
       "      <td>0.870000</td>\n",
       "      <td>5.000000</td>\n",
       "      <td>245.000000</td>\n",
       "      <td>4.000000</td>\n",
       "      <td>0.000000</td>\n",
       "      <td>0.000000</td>\n",
       "      <td>0.000000</td>\n",
       "    </tr>\n",
       "    <tr>\n",
       "      <th>max</th>\n",
       "      <td>1.000000</td>\n",
       "      <td>1.000000</td>\n",
       "      <td>7.000000</td>\n",
       "      <td>310.000000</td>\n",
       "      <td>10.000000</td>\n",
       "      <td>1.000000</td>\n",
       "      <td>1.000000</td>\n",
       "      <td>1.000000</td>\n",
       "    </tr>\n",
       "  </tbody>\n",
       "</table>\n",
       "</div>"
      ],
      "text/plain": [
       "       satisfaction_level  last_evaluation  number_project  \\\n",
       "count        14999.000000     14999.000000    14999.000000   \n",
       "mean             0.612834         0.716102        3.803054   \n",
       "std              0.248631         0.171169        1.232592   \n",
       "min              0.090000         0.360000        2.000000   \n",
       "25%              0.440000         0.560000        3.000000   \n",
       "50%              0.640000         0.720000        4.000000   \n",
       "75%              0.820000         0.870000        5.000000   \n",
       "max              1.000000         1.000000        7.000000   \n",
       "\n",
       "       average_montly_hours  time_spend_company  Work_accident          left  \\\n",
       "count          14999.000000        14999.000000   14999.000000  14999.000000   \n",
       "mean             201.050337            3.498233       0.144610      0.238083   \n",
       "std               49.943099            1.460136       0.351719      0.425924   \n",
       "min               96.000000            2.000000       0.000000      0.000000   \n",
       "25%              156.000000            3.000000       0.000000      0.000000   \n",
       "50%              200.000000            3.000000       0.000000      0.000000   \n",
       "75%              245.000000            4.000000       0.000000      0.000000   \n",
       "max              310.000000           10.000000       1.000000      1.000000   \n",
       "\n",
       "       promotion_last_5years  \n",
       "count           14999.000000  \n",
       "mean                0.021268  \n",
       "std                 0.144281  \n",
       "min                 0.000000  \n",
       "25%                 0.000000  \n",
       "50%                 0.000000  \n",
       "75%                 0.000000  \n",
       "max                 1.000000  "
      ]
     },
     "execution_count": 4,
     "metadata": {},
     "output_type": "execute_result"
    }
   ],
   "source": [
    "df.describe()\n"
   ]
  },
  {
   "cell_type": "code",
   "execution_count": 5,
   "metadata": {
    "scrolled": true
   },
   "outputs": [
    {
     "name": "stdout",
     "output_type": "stream",
     "text": [
      "Основные статистики уровня удовлетворенности работой:\n",
      "Среднее - 0.6128335222348166\n",
      "Медиана - 0.64\n",
      "Мода - 0.1\n",
      "Минимум - 0.09\n",
      "Максимум - 1.0\n",
      "Среднеквадратичное отклонение - 0.2486306510611418\n"
     ]
    }
   ],
   "source": [
    "# УРОВЕНЬ УДОВЛЕТВОРЕННОСТИ РАБОТОЙ\n",
    "a = df.satisfaction_level.mean()\n",
    "b = df.satisfaction_level.median()\n",
    "c = df.satisfaction_level.mode()[0]\n",
    "d = df.satisfaction_level.min()\n",
    "e = df.satisfaction_level.max()\n",
    "f = df.satisfaction_level.std()\n",
    "\n",
    "print(f'Основные статистики уровня удовлетворенности работой:\\nСреднее - {a}\\nМедиана - {b}\\nМода - {c}\\nМинимум - {d}\\nМаксимум - {e}\\nСреднеквадратичное отклонение - {f}')\n",
    "# Оценка удовлетворенности работой может принимать значения от нуля до единицы. Для обследуемых сотрудников оценка\n",
    "# находится в интервале от 0,09 до 1. Половина сотрудников оценили удовлетворенность работой выше 0,64, \n",
    "# а вторая половина - ниже. Средняя оценка составила 0,61.\n"
   ]
  },
  {
   "cell_type": "code",
   "execution_count": 6,
   "metadata": {},
   "outputs": [
    {
     "name": "stdout",
     "output_type": "stream",
     "text": [
      "Основные статистики времени с последней оценки в годах:\n",
      "Среднее - 0.7161017401159978\n",
      "Медиана - 0.72\n",
      "Мода - 0.55\n",
      "Минимум - 0.36\n",
      "Максимум - 1.0\n",
      "Среднеквадратичное отклонение - 0.17116911062327592\n"
     ]
    }
   ],
   "source": [
    "# ВРЕМЯ С ПОСЛЕДНЕЙ ОЦЕНКИ В ГОДАХ\n",
    "a = df.last_evaluation.mean()\n",
    "b = df.last_evaluation.median()\n",
    "c = df.last_evaluation.mode()[0]\n",
    "d = df.last_evaluation.min()\n",
    "e = df.last_evaluation.max()\n",
    "f = df.last_evaluation.std()\n",
    "\n",
    "print(f'Основные статистики времени с последней оценки в годах:\\nСреднее - {a}\\nМедиана - {b}\\nМода - {c}\\nМинимум - {d}\\nМаксимум - {e}\\nСреднеквадратичное отклонение - {f}')\n",
    "# Время с последней оценки находится в интервале от 0,36 до 1 года.Среднее и медианное значение приближенно равны 0,72.\n",
    "# Мода составила чуть больше полугода"
   ]
  },
  {
   "cell_type": "code",
   "execution_count": 7,
   "metadata": {},
   "outputs": [
    {
     "name": "stdout",
     "output_type": "stream",
     "text": [
      "Основные статистики числа проектов:\n",
      "Среднее - 3.80305353690246\n",
      "Медиана - 4.0\n",
      "Мода - 4\n",
      "Минимум - 2\n",
      "Максимум - 7\n",
      "Среднеквадратичное отклонение - 1.2325923553183857\n"
     ]
    }
   ],
   "source": [
    "# КОЛИЧЕСТВО ПРОЕКТОВ\n",
    "a = df.number_project.mean()\n",
    "b = df.number_project.median()\n",
    "c = df.number_project.mode()[0]\n",
    "d = df.number_project.min()\n",
    "e = df.number_project.max()\n",
    "f = df.number_project.std()\n",
    "print(f'Основные статистики числа проектов:\\nСреднее - {a}\\nМедиана - {b}\\nМода - {c}\\nМинимум - {d}\\nМаксимум - {e}\\nСреднеквадратичное отклонение - {f}')\n",
    "# Каждый сотрудник работал над от 2 до 7 проектов. В среднем каждый работник работал на 4 проектами +/- 1 проект"
   ]
  },
  {
   "cell_type": "code",
   "execution_count": 8,
   "metadata": {},
   "outputs": [
    {
     "name": "stdout",
     "output_type": "stream",
     "text": [
      "Основные статистики среднего количество часов:\n",
      "Среднее - 201.0503366891126\n",
      "Медиана - 200.0\n",
      "Мода - 135\n",
      "Минимум - 96\n",
      "Максимум - 310\n",
      "Среднеквадратичное отклонение - 49.943099371284305\n"
     ]
    }
   ],
   "source": [
    "# КОЛИЧЕСТВО ЧАСОВ НА РАБОЧЕМ МЕСТЕ В МЕСЯЦ\n",
    "a = df.average_montly_hours.mean()\n",
    "b = df.average_montly_hours.median()\n",
    "c = df.average_montly_hours.mode()[0]\n",
    "d = df.average_montly_hours.min()\n",
    "e = df.average_montly_hours.max()\n",
    "f = df.average_montly_hours.std()\n",
    "print(f'Основные статистики среднего количество часов:\\nСреднее - {a}\\nМедиана - {b}\\nМода - {c}\\nМинимум - {d}\\nМаксимум - {e}\\nСреднеквадратичное отклонение - {f}')\n",
    "# Количество проведенных на рабочем месте часов находится в интервале от 96 до 310 часов. При этом среднее и медианое значени приближенно равны 200 часов\n",
    "# Модальное число - 135 часов - большее количество работников проводит на рабочем месте менеьше среднего рабочего времени.\n",
    "# Стандартная ошибка 50 - в среднем размах среднего числа от среднего достаточно существенен"
   ]
  },
  {
   "cell_type": "code",
   "execution_count": 9,
   "metadata": {},
   "outputs": [
    {
     "name": "stdout",
     "output_type": "stream",
     "text": [
      "Основные статистики времени с последней оценки в годах:\n",
      "Среднее - 3.498233215547703\n",
      "Медиана - 3.0\n",
      "Мода - 3\n",
      "Минимум - 2\n",
      "Максимум - 10\n",
      "Среднеквадратичное отклонение - 1.4601362305354546\n"
     ]
    }
   ],
   "source": [
    "# СТАЖ РАБОТЫ В ГОДАХ\n",
    "a = df.time_spend_company.mean()\n",
    "b = df.time_spend_company.median()\n",
    "c = df.time_spend_company.mode()[0]\n",
    "d = df.time_spend_company.min()\n",
    "e = df.time_spend_company.max()\n",
    "f = df.time_spend_company.std()\n",
    "print(f'Основные статистики времени с последней оценки в годах:\\nСреднее - {a}\\nМедиана - {b}\\nМода - {c}\\nМинимум - {d}\\nМаксимум - {e}\\nСреднеквадратичное отклонение - {f}')\n",
    "# Сотрудники проводят в компании от 2 до 10 лет. В среднем 3,5 года. При это половина работников работает в компании меньше трех лет\n",
    "# Также три года - это самый распространенный срок работы в компании"
   ]
  },
  {
   "cell_type": "code",
   "execution_count": 10,
   "metadata": {},
   "outputs": [
    {
     "name": "stdout",
     "output_type": "stream",
     "text": [
      "Несчастные случаи на работе:\n",
      "Среднее - 0.1446096406427095\n",
      "Среднеквадратичное отклонение - 0.3517185523801279\n",
      "Увольнения:\n",
      "Среднее - 0.2380825388359224\n",
      "Среднеквадратичное отклонение - 0.425924099380363\n",
      "Повышения:\n",
      "Среднее - 0.021268084538969265\n",
      "Среднеквадратичное отклонение - 0.1442814645785774\n"
     ]
    }
   ],
   "source": [
    "# Показатели несчастных случаев, увольнений  и повышений представленны только 0 или 1\n",
    "# Среднее - будет стремится либо к 0 либо 1. \n",
    "# НЕСЧАСТНЫЕ СЛУЧАИ НА РАБОТЕ \n",
    "a = df.Work_accident.mean()\n",
    "b = df.Work_accident.std()\n",
    "# Среднее значение 0,14 - достаточно невысокое. Однако среднее отклонение 0,35 - достаточно высокое\n",
    "\n",
    "# УВОЛЬНЕНИЯ\n",
    "c = df.left.mean()\n",
    "d = df.left.std()\n",
    "# Среднее значение для увольния - 0,24. Четверть всех сотрудников уволены \n",
    "\n",
    "\n",
    "# ПОВЫШЕНИЯ\n",
    "e = df.promotion_last_5years.mean()\n",
    "f = df.promotion_last_5years.std()\n",
    "# Среднее значение для повышения - 0,02. Только 2% было повышено\n",
    "print(f'Несчастные случаи на работе:\\nСреднее - {a}\\nСреднеквадратичное отклонение - {b}\\nУвольнения:\\nСреднее - {c}\\nСреднеквадратичное отклонение - {d}\\nПовышения:\\nСреднее - {e}\\nСреднеквадратичное отклонение - {f}')"
   ]
  },
  {
   "cell_type": "code",
   "execution_count": 11,
   "metadata": {},
   "outputs": [
    {
     "data": {
      "text/html": [
       "<div>\n",
       "<style scoped>\n",
       "    .dataframe tbody tr th:only-of-type {\n",
       "        vertical-align: middle;\n",
       "    }\n",
       "\n",
       "    .dataframe tbody tr th {\n",
       "        vertical-align: top;\n",
       "    }\n",
       "\n",
       "    .dataframe thead th {\n",
       "        text-align: right;\n",
       "    }\n",
       "</style>\n",
       "<table border=\"1\" class=\"dataframe\">\n",
       "  <thead>\n",
       "    <tr style=\"text-align: right;\">\n",
       "      <th></th>\n",
       "      <th>satisfaction_level</th>\n",
       "      <th>last_evaluation</th>\n",
       "      <th>number_project</th>\n",
       "      <th>average_montly_hours</th>\n",
       "      <th>time_spend_company</th>\n",
       "      <th>Work_accident</th>\n",
       "    </tr>\n",
       "  </thead>\n",
       "  <tbody>\n",
       "    <tr>\n",
       "      <th>satisfaction_level</th>\n",
       "      <td>1.000000</td>\n",
       "      <td>0.105021</td>\n",
       "      <td>-0.142970</td>\n",
       "      <td>-0.020048</td>\n",
       "      <td>-0.100866</td>\n",
       "      <td>0.058697</td>\n",
       "    </tr>\n",
       "    <tr>\n",
       "      <th>last_evaluation</th>\n",
       "      <td>0.105021</td>\n",
       "      <td>1.000000</td>\n",
       "      <td>0.349333</td>\n",
       "      <td>0.339742</td>\n",
       "      <td>0.131591</td>\n",
       "      <td>-0.007104</td>\n",
       "    </tr>\n",
       "    <tr>\n",
       "      <th>number_project</th>\n",
       "      <td>-0.142970</td>\n",
       "      <td>0.349333</td>\n",
       "      <td>1.000000</td>\n",
       "      <td>0.417211</td>\n",
       "      <td>0.196786</td>\n",
       "      <td>-0.004741</td>\n",
       "    </tr>\n",
       "    <tr>\n",
       "      <th>average_montly_hours</th>\n",
       "      <td>-0.020048</td>\n",
       "      <td>0.339742</td>\n",
       "      <td>0.417211</td>\n",
       "      <td>1.000000</td>\n",
       "      <td>0.127755</td>\n",
       "      <td>-0.010143</td>\n",
       "    </tr>\n",
       "    <tr>\n",
       "      <th>time_spend_company</th>\n",
       "      <td>-0.100866</td>\n",
       "      <td>0.131591</td>\n",
       "      <td>0.196786</td>\n",
       "      <td>0.127755</td>\n",
       "      <td>1.000000</td>\n",
       "      <td>0.002120</td>\n",
       "    </tr>\n",
       "    <tr>\n",
       "      <th>Work_accident</th>\n",
       "      <td>0.058697</td>\n",
       "      <td>-0.007104</td>\n",
       "      <td>-0.004741</td>\n",
       "      <td>-0.010143</td>\n",
       "      <td>0.002120</td>\n",
       "      <td>1.000000</td>\n",
       "    </tr>\n",
       "  </tbody>\n",
       "</table>\n",
       "</div>"
      ],
      "text/plain": [
       "                      satisfaction_level  last_evaluation  number_project  \\\n",
       "satisfaction_level              1.000000         0.105021       -0.142970   \n",
       "last_evaluation                 0.105021         1.000000        0.349333   \n",
       "number_project                 -0.142970         0.349333        1.000000   \n",
       "average_montly_hours           -0.020048         0.339742        0.417211   \n",
       "time_spend_company             -0.100866         0.131591        0.196786   \n",
       "Work_accident                   0.058697        -0.007104       -0.004741   \n",
       "\n",
       "                      average_montly_hours  time_spend_company  Work_accident  \n",
       "satisfaction_level               -0.020048           -0.100866       0.058697  \n",
       "last_evaluation                   0.339742            0.131591      -0.007104  \n",
       "number_project                    0.417211            0.196786      -0.004741  \n",
       "average_montly_hours              1.000000            0.127755      -0.010143  \n",
       "time_spend_company                0.127755            1.000000       0.002120  \n",
       "Work_accident                    -0.010143            0.002120       1.000000  "
      ]
     },
     "execution_count": 11,
     "metadata": {},
     "output_type": "execute_result"
    }
   ],
   "source": [
    "# Строим таблицу корреляции\n",
    "table_corr = df[['satisfaction_level', 'last_evaluation', 'number_project', 'average_montly_hours', 'time_spend_company', 'Work_accident']].corr()\n",
    "table_corr\n",
    "\n",
    "# Наиболее скореллированными показателями являются число проектов и среднее количество часов, проведенных на рабочем месте\n",
    "# Наименее скореллированными признаками являются время работы в компании и акседенты на рабочем времени"
   ]
  },
  {
   "cell_type": "code",
   "execution_count": 12,
   "metadata": {},
   "outputs": [
    {
     "data": {
      "text/plain": [
       "<matplotlib.axes._subplots.AxesSubplot at 0x29e04ac3e80>"
      ]
     },
     "execution_count": 12,
     "metadata": {},
     "output_type": "execute_result"
    },
    {
     "data": {
      "image/png": "[encoded data removed]",
      "text/plain": [
       "<Figure size 936x432 with 2 Axes>"
      ]
     },
     "metadata": {
      "needs_background": "light"
     },
     "output_type": "display_data"
    }
   ],
   "source": [
    "# Визуализация матрицы корреляций\n",
    "sns.heatmap(table_corr)"
   ]
  },
  {
   "cell_type": "code",
   "execution_count": 13,
   "metadata": {},
   "outputs": [
    {
     "data": {
      "text/plain": [
       "department\n",
       "IT             1227\n",
       "RandD           787\n",
       "accounting      767\n",
       "hr              739\n",
       "management      630\n",
       "marketing       858\n",
       "product_mng     902\n",
       "sales          4140\n",
       "support        2229\n",
       "technical      2720\n",
       "Name: satisfaction_level, dtype: int64"
      ]
     },
     "execution_count": 13,
     "metadata": {},
     "output_type": "execute_result"
    }
   ],
   "source": [
    "# Сколько сотрудников работает в каждом департаменте?\n",
    "\n",
    "df.groupby('department').satisfaction_level.count()"
   ]
  },
  {
   "cell_type": "code",
   "execution_count": 14,
   "metadata": {},
   "outputs": [
    {
     "data": {
      "text/plain": [
       "Text(0.5, 1.0, 'Распределение сорудников по уровню зарплат')"
      ]
     },
     "execution_count": 14,
     "metadata": {},
     "output_type": "execute_result"
    },
    {
     "data": {
      "image/png": "[encoded data removed]",
      "text/plain": [
       "<Figure size 936x432 with 1 Axes>"
      ]
     },
     "metadata": {
      "needs_background": "light"
     },
     "output_type": "display_data"
    }
   ],
   "source": [
    "# Как распределенны сотрудники по зарплате?\n",
    "\n",
    "salary = df[['salary','department']].groupby(by='salary').count()\n",
    "salary_bar = salary.plot(kind='bar')\n",
    "salary_bar.set_xlabel('Относительный уровень зарплат')\n",
    "salary_bar.set_ylabel('Количество сотрудников')\n",
    "salary_bar.set_title('Распределение сорудников по уровню зарплат')\n",
    "\n",
    "# Большая часть сотрудников получает низкую зарплату. Меньше всего сотрудников с высокой зарплатой"
   ]
  },
  {
   "cell_type": "code",
   "execution_count": 15,
   "metadata": {},
   "outputs": [
    {
     "data": {
      "text/plain": [
       "<matplotlib.axes._subplots.AxesSubplot at 0x29e053118e0>"
      ]
     },
     "execution_count": 15,
     "metadata": {},
     "output_type": "execute_result"
    },
    {
     "data": {
      "image/png": "[encoded data removed]",
      "text/plain": [
       "<Figure size 936x432 with 1 Axes>"
      ]
     },
     "metadata": {
      "needs_background": "light"
     },
     "output_type": "display_data"
    }
   ],
   "source": [
    "# Как распределенны сотрудники по зарплате в разных департаментах?\n",
    "\n",
    "df.pivot_table(index = 'department', columns = 'salary', values = 'satisfaction_level', aggfunc = 'count').plot(kind='bar')\n",
    "  \n",
    "# В большинстве департаментов больше работников с низкий и среднем уровнем зарплаты\n",
    "# Только в менеджменте сотрудники получают более высокие зарплаты"
   ]
  },
  {
   "cell_type": "code",
   "execution_count": 16,
   "metadata": {},
   "outputs": [
    {
     "data": {
      "text/plain": [
       "Ttest_indResult(statistic=-0.7288680398062308, pvalue=0.4661023478267259)"
      ]
     },
     "execution_count": 16,
     "metadata": {},
     "output_type": "execute_result"
    }
   ],
   "source": [
    "# Проверить гипотезу, что сотрудники с высоким окладом проводят на работе больше времени, чем сотрудники с низким окладом\n",
    "import scipy.stats as stats\n",
    "df[['salary','average_montly_hours']].groupby(by='salary').mean()\n",
    "sam1 = df.average_montly_hours[(df['salary']=='low')]\n",
    "sam2 = df.average_montly_hours[(df['salary']=='high')]\n",
    "stats.ttest_ind(sam2, sam1) \n",
    "\n",
    "#  pvalue=0.46 - Больше чем 0,05. Предполагаем что сотрудники с высоким окладом проводят на работе столько же времени, \n",
    "# сколько и сотрудники с низким окладом"
   ]
  },
  {
   "cell_type": "code",
   "execution_count": 17,
   "metadata": {},
   "outputs": [
    {
     "name": "stdout",
     "output_type": "stream",
     "text": [
      "Доля сотрудников с повышением:\n",
      "0.005 - среди уволенных 0.089 - среди неуволенных\n",
      "Средняя степень удовлетворенности:\n",
      "0.44 - среди уволенных 0.667 - среди неуволенных\n",
      "Среднее количество проектов:\n",
      "3.856 - среди уволенных 3.787 - среди неуволенных\n"
     ]
    }
   ],
   "source": [
    "# Доля сотрудников с повышением за последние 5 лет\n",
    "# Средняя степень удовлетворенности\n",
    "# Среднее количество проектов\n",
    "\n",
    "left = df[(df['left']==1)]\n",
    "left1 = left[(left['promotion_last_5years']==1)]\n",
    "\n",
    "a = round(left.satisfaction_level.mean(),3)\n",
    "b = round(left.number_project.mean(),3)\n",
    "c = round(left1['promotion_last_5years'].count()/left['promotion_last_5years'].count(),3) \n",
    "\n",
    "not_left = df[(df['left']==0)]\n",
    "not_left1 = df[(df['promotion_last_5years']==1)]\n",
    "\n",
    "d = round(not_left.satisfaction_level.mean(),3)\n",
    "e = round(not_left.number_project.mean(),3)\n",
    "f = round(not_left1['promotion_last_5years'].count()/left['promotion_last_5years'].count(),3) \n",
    "\n",
    "print(f'Доля сотрудников с повышением:\\n{c} - среди уволенных {f} - среди неуволенных\\nСредняя степень удовлетворенности:\\n{a} - среди уволенных {d} - среди неуволенных\\nСреднее количество проектов:\\n{b} - среди уволенных {e} - среди неуволенных')"
   ]
  },
  {
   "cell_type": "code",
   "execution_count": 18,
   "metadata": {},
   "outputs": [],
   "source": [
    "from sklearn.model_selection import train_test_split\n",
    "from sklearn.discriminant_analysis import LinearDiscriminantAnalysis\n",
    "lda = LinearDiscriminantAnalysis()\n",
    "from sklearn.metrics import accuracy_score"
   ]
  },
  {
   "cell_type": "code",
   "execution_count": 19,
   "metadata": {},
   "outputs": [
    {
     "data": {
      "text/plain": [
       "array([0, 0, 0, ..., 0, 0, 0])"
      ]
     },
     "execution_count": 19,
     "metadata": {},
     "output_type": "execute_result"
    }
   ],
   "source": [
    "# Построим модель LDA, предсказывающую уволился ли сотрудник на основе имеющихся факторов\n",
    "\n",
    "data_lda = df[['satisfaction_level', 'last_evaluation', 'number_project', 'average_montly_hours', 'time_spend_company', 'Work_accident','promotion_last_5years']]\n",
    "data_lda_y = list(df.left)\n",
    "\n",
    "# разделяем выборку на тренировочную и тестовую\n",
    "X_train, X_test, y_train, y_test = train_test_split(data_lda, data_lda_y, test_size=0.25)\n",
    "\n",
    "# обучаем данные\n",
    "lda.fit(X_train, y_train)\n",
    "\n",
    "# делаем прогноз на тестовой выборке\n",
    "lda.predict(X_test)\n",
    "\n"
   ]
  },
  {
   "cell_type": "code",
   "execution_count": 20,
   "metadata": {},
   "outputs": [
    {
     "data": {
      "text/html": [
       "<div>\n",
       "<style scoped>\n",
       "    .dataframe tbody tr th:only-of-type {\n",
       "        vertical-align: middle;\n",
       "    }\n",
       "\n",
       "    .dataframe tbody tr th {\n",
       "        vertical-align: top;\n",
       "    }\n",
       "\n",
       "    .dataframe thead th {\n",
       "        text-align: right;\n",
       "    }\n",
       "</style>\n",
       "<table border=\"1\" class=\"dataframe\">\n",
       "  <thead>\n",
       "    <tr style=\"text-align: right;\">\n",
       "      <th></th>\n",
       "      <th>0</th>\n",
       "      <th>1</th>\n",
       "    </tr>\n",
       "  </thead>\n",
       "  <tbody>\n",
       "    <tr>\n",
       "      <th>0</th>\n",
       "      <td>0</td>\n",
       "      <td>0</td>\n",
       "    </tr>\n",
       "    <tr>\n",
       "      <th>1</th>\n",
       "      <td>0</td>\n",
       "      <td>0</td>\n",
       "    </tr>\n",
       "    <tr>\n",
       "      <th>2</th>\n",
       "      <td>1</td>\n",
       "      <td>0</td>\n",
       "    </tr>\n",
       "    <tr>\n",
       "      <th>3</th>\n",
       "      <td>1</td>\n",
       "      <td>0</td>\n",
       "    </tr>\n",
       "    <tr>\n",
       "      <th>4</th>\n",
       "      <td>0</td>\n",
       "      <td>0</td>\n",
       "    </tr>\n",
       "    <tr>\n",
       "      <th>...</th>\n",
       "      <td>...</td>\n",
       "      <td>...</td>\n",
       "    </tr>\n",
       "    <tr>\n",
       "      <th>3745</th>\n",
       "      <td>0</td>\n",
       "      <td>0</td>\n",
       "    </tr>\n",
       "    <tr>\n",
       "      <th>3746</th>\n",
       "      <td>0</td>\n",
       "      <td>0</td>\n",
       "    </tr>\n",
       "    <tr>\n",
       "      <th>3747</th>\n",
       "      <td>0</td>\n",
       "      <td>0</td>\n",
       "    </tr>\n",
       "    <tr>\n",
       "      <th>3748</th>\n",
       "      <td>0</td>\n",
       "      <td>0</td>\n",
       "    </tr>\n",
       "    <tr>\n",
       "      <th>3749</th>\n",
       "      <td>0</td>\n",
       "      <td>0</td>\n",
       "    </tr>\n",
       "  </tbody>\n",
       "</table>\n",
       "<p>3750 rows × 2 columns</p>\n",
       "</div>"
      ],
      "text/plain": [
       "      0  1\n",
       "0     0  0\n",
       "1     0  0\n",
       "2     1  0\n",
       "3     1  0\n",
       "4     0  0\n",
       "...  .. ..\n",
       "3745  0  0\n",
       "3746  0  0\n",
       "3747  0  0\n",
       "3748  0  0\n",
       "3749  0  0\n",
       "\n",
       "[3750 rows x 2 columns]"
      ]
     },
     "execution_count": 20,
     "metadata": {},
     "output_type": "execute_result"
    }
   ],
   "source": [
    "# смотрим разницу факта и прогноза\n",
    "result = pd.DataFrame([y_test, lda.predict(X_test)]).T\n",
    "\n",
    "result\n"
   ]
  },
  {
   "cell_type": "code",
   "execution_count": 21,
   "metadata": {},
   "outputs": [
    {
     "data": {
      "text/plain": [
       "0.7592"
      ]
     },
     "execution_count": 21,
     "metadata": {},
     "output_type": "execute_result"
    }
   ],
   "source": [
    "# расчет точности \n",
    "accuracy_score(y_test, lda.predict(X_test))"
   ]
  }
 ],
 "metadata": {
  "kernelspec": {
   "display_name": "Python 3",
   "language": "python",
   "name": "python3"
  },
  "language_info": {
   "codemirror_mode": {
    "name": "ipython",
    "version": 3
   },
   "file_extension": ".py",
   "mimetype": "text/x-python",
   "name": "python",
   "nbconvert_exporter": "python",
   "pygments_lexer": "ipython3",
   "version": "3.8.3"
  }
 },
 "nbformat": 4,
 "nbformat_minor": 4
}
