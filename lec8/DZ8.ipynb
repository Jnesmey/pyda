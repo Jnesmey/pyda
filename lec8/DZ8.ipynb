{
 "cells": [
  {
   "cell_type": "code",
   "execution_count": 1,
   "metadata": {},
   "outputs": [],
   "source": [
    "from datetime import datetime\n",
    "from datetime import timedelta"
   ]
  },
  {
   "cell_type": "code",
   "execution_count": 2,
   "metadata": {},
   "outputs": [
    {
     "name": "stdout",
     "output_type": "stream",
     "text": [
      "2002-10-02 00:00:00 2013-11-10 00:00:00 1977-08-18 00:00:00\n"
     ]
    }
   ],
   "source": [
    "# ЗАДАНИЕ 1 - ФОРМАТ ДАТЫ\n",
    "\n",
    "from datetime import datetime\n",
    "The_Moscow_Times = 'Wednesday, October 2, 2002'\n",
    "The_Guardian = 'Friday, 11.10.13'\n",
    "Daily_News = 'Thursday, 18 August 1977'\n",
    "Moscow_dt = datetime.strptime(The_Moscow_Times, '%A, %B %d, %Y')\n",
    "Guardian_dt = datetime.strptime(The_Guardian, '%A, %m.%d.%y')\n",
    "Daily_dt = datetime.strptime(Daily_News, '%A, %d %B %Y')\n",
    "print(Moscow_dt, Guardian_dt, Daily_dt)"
   ]
  },
  {
   "cell_type": "code",
   "execution_count": 3,
   "metadata": {},
   "outputs": [],
   "source": [
    "# ЗАДАНИЕ 2 - КОРРЕКТНОСТЬ ДАТЫ\n",
    "\n",
    "def correct_date():    \n",
    "    stream = ['2018-04-02', '2018-02-29', '2018-19-02']\n",
    "    for date in stream:\n",
    "        try:\n",
    "            datetime.strptime(date, '%Y-%d-%m')\n",
    "            print(date, \" - корректная дата\")\n",
    "        except: \n",
    "            print(date,'- некорректная дата')"
   ]
  },
  {
   "cell_type": "code",
   "execution_count": 5,
   "metadata": {},
   "outputs": [],
   "source": [
    "# ЗАДАНИЕ 3 - ДАТЫ ЗА ПЕРИОД\n",
    "\n",
    "def interval_date():\n",
    "    start_date = input(\"Введите начальную дату в формате YYYY-MM-DD \")\n",
    "    end_date = input(\"Введите конечную дату в формате YYYY-MM-DD \")\n",
    "    start_date_dt = datetime.strptime(start_date, '%Y-%m-%d')\n",
    "    end_date_dt = datetime.strptime(end_date, '%Y-%m-%d')               \n",
    "    date_list = []   \n",
    "    date = start_date_dt \n",
    "    if start_date > end_date:\n",
    "        print(date_list)\n",
    "    else:\n",
    "        while date <= end_date_dt: \n",
    "            date_list.append(date.strftime('%Y-%m-%d'))\n",
    "            date += timedelta(days=1)\n",
    "    print(date_list)"
   ]
  }
 ],
 "metadata": {
  "kernelspec": {
   "display_name": "Python 3",
   "language": "python",
   "name": "python3"
  },
  "language_info": {
   "codemirror_mode": {
    "name": "ipython",
    "version": 3
   },
   "file_extension": ".py",
   "mimetype": "text/x-python",
   "name": "python",
   "nbconvert_exporter": "python",
   "pygments_lexer": "ipython3",
   "version": "3.8.3"
  }
 },
 "nbformat": 4,
 "nbformat_minor": 4
}
