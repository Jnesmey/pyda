{
 "cells": [
  {
   "cell_type": "code",
   "execution_count": null,
   "metadata": {},
   "outputs": [],
   "source": [
    "# ЗАДАНИЕ 1 ДЛИНА ФРАЗЫ\n",
    "\n",
    "phrase_1 = input('Введите фразу 1 ')\n",
    "phrase_2 = input('Введите фразу 2 ')\n",
    "if len(phrase_1)>len(phrase_2):\n",
    "    print('Фраза 1 длинее, чем фраза 2')\n",
    "elif len(phrase_1)<len(phrase_2):\n",
    "    print('Фраза 2 длинее, чем фраза 1')\n",
    "else:\n",
    "    print('Фразы равной длины')"
   ]
  },
  {
   "cell_type": "code",
   "execution_count": null,
   "metadata": {},
   "outputs": [],
   "source": [
    "# ЗАДАНИЕ 2 ОПРЕДЕЛЕНИЕ ВИСОКОСНОГО ГОДА\n",
    "\n",
    "year = int(input('Введите год '))\n",
    "if year % 4 > 0 :\n",
    "    print('Год не високосный')\n",
    "else:\n",
    "    if year % 100 > 0:\n",
    "        print('Год високосный')"
   ]
  },
  {
   "cell_type": "code",
   "execution_count": null,
   "metadata": {},
   "outputs": [],
   "source": [
    "# ЗАДАНИЕ 3 ЗНАКИ ЗОДИАКА\n",
    "\n",
    "db = int(input('Введите день '))\n",
    "m = int(input('Введите месяц '))\n",
    "if 19<=db<=30 and m==4 or 1<=db<=13 and m==5:\n",
    "    print('Твой знак зодиака - Овен')\n",
    "elif 14<=db<=31 and m==5 or 1<=db<=19 and m==6:\n",
    "    print('Твой знак зодиака - Телец')\n",
    "elif 20<=db<=30 and m==6 or 1<=db<=20 and m==7:\n",
    "    print('Твой знак зодиака - Близнецы')\n",
    "elif 21<=db<=31 and m==7 or 1<=db<=9 and m==8:\n",
    "    print('Твой знак зодиака - Рак')\n",
    "elif 10<=db<=31 and m==8 or 1<=db<=15 and m==9:\n",
    "    print('Твой знак зодиака - Лев')\n",
    "elif 16<=db<=30 and m==9 or 1<=db<=30 and m==10:\n",
    "    print('Твой знак зодиака - Дева')\n",
    "elif db==31 and m==10 or 1<=db<=22 and m==11:\n",
    "    print('Твой знак зодиака - Весы')\n",
    "elif 23<=db<=29 and m==11:\n",
    "    print('Твой знак зодиака - Скорпион')\n",
    "elif db==30 and m==11 or 1<=db<=317 and m==12:\n",
    "    print('Твой знак зодиака - Змееносец')\n",
    "elif 18<=db<=31 and m==12 or 1<=db<=18 and m==1:\n",
    "    print('Твой знак зодиака - Стрелец')\n",
    "elif 19<=db<=31 and m==1 or 1<=db<=15 and m==2:\n",
    "    print('Твой знак зодиака - Козерог')\n",
    "elif 16<=db<=29 and m==2 or 1<=db<=11 and m==3:\n",
    "    print('Твой знак зодиака - Водолей')\n",
    "elif 12<=db<=31 and m==3 or 1<=db<=18 and m==4:\n",
    "    print('Твой знак зодиака - Рыбы')"
   ]
  },
  {
   "cell_type": "code",
   "execution_count": null,
   "metadata": {},
   "outputs": [],
   "source": [
    "# ЗАДАНИЕ 4 РАЗМЕР КОРОБКИ\n",
    "\n",
    "width = int(input('Введите ширину в см '))\n",
    "length = int(input('Введите длину в см '))\n",
    "height = int(input('Введите высоту в см '))\n",
    "if width<15 and length<15 and height<15:\n",
    "    print('Вам нужна коробка №1')\n",
    "elif 15<width<50 or 15<length<50 or 15<height<50:\n",
    "    print('Вам нужна коробка №2')\n",
    "elif height>200:\n",
    "    print('Вам нужна коробка для лыж')\n",
    "else:\n",
    "    print('Вам нужна стандартная коробка №3')"
   ]
  },
  {
   "cell_type": "code",
   "execution_count": null,
   "metadata": {},
   "outputs": [],
   "source": [
    "# ЗАДАНИЕ 5 НОМЕР БИЛЕТА\n",
    "\n",
    "numb = int(input('Введите шестизначный номер билета '))\n",
    "a = numb % 10\n",
    "b = numb % 100//10\n",
    "c = numb % 1000//100\n",
    "d = numb % 10000//1000\n",
    "e = numb % 100000//10000\n",
    "f = numb % 1000000//100000\n",
    "if a+b+c == d+f+e:\n",
    "    print('Счастливый билет')\n",
    "else:\n",
    "    print('Несчастливый билет')"
   ]
  },
  {
   "cell_type": "code",
   "execution_count": null,
   "metadata": {},
   "outputs": [],
   "source": [
    "# ЗАДАНИЕ 6 ПЛОЩАДИ ФИГУР\n",
    "\n",
    "f = input('Введите название фигуры в формате: \"круг\", \"треугольник\" или \"прямоугольник\"')\n",
    "if f == 'круг':\n",
    "    r = int (input('Введите радиус круга '))\n",
    "    print('Площадь круга', 2*3.14*r)\n",
    "elif f == 'треугольник':\n",
    "    a = int(input('Введите длину стороны a '))\n",
    "    b = int(input('Введите длину стороны b '))\n",
    "    c = int(input('Введите длину стороны c '))\n",
    "    p = (a+b+c)/2\n",
    "    print('Площадь треугольника', (p*(p-a)*(p-b)*(p-c))**(1/2))\n",
    "elif f == 'прямоугольник':\n",
    "    d = int(input('Введите длину стороны a '))\n",
    "    e = int(input('Введите длину стороны b '))\n",
    "    print('Площадь прямоугольник', d*e)"
   ]
  }
 ],
 "metadata": {
  "kernelspec": {
   "display_name": "Python 3",
   "language": "python",
   "name": "python3"
  },
  "language_info": {
   "codemirror_mode": {
    "name": "ipython",
    "version": 3
   },
   "file_extension": ".py",
   "mimetype": "text/x-python",
   "name": "python",
   "nbconvert_exporter": "python",
   "pygments_lexer": "ipython3",
   "version": "3.8.3"
  }
 },
 "nbformat": 4,
 "nbformat_minor": 4
}
