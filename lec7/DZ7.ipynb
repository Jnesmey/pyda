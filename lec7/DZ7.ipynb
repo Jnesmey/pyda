{
 "cells": [
  {
   "cell_type": "code",
   "execution_count": 1,
   "metadata": {},
   "outputs": [],
   "source": [
    "import re"
   ]
  },
  {
   "cell_type": "code",
   "execution_count": 2,
   "metadata": {},
   "outputs": [],
   "source": [
    "# ЗАДАЧА 1 ВАЛИДНОСТЬ НОМЕРА\n",
    "\n",
    "def valid_number():   \n",
    "    car_id = input('Номер машины:')\n",
    "    valid = re.findall(r'[АВЕКМНОРСТУХ]{1}\\d{3}[АВЕКМНОРСТУХ]{2}\\d{2,3}', car_id)\n",
    "    if valid != []:\n",
    "        print(f'Номер {valid[0][0:5]} валиден. Регион {valid[0][6:]} ')\n",
    "    else:\n",
    "         print('Номер не валиден')"
   ]
  },
  {
   "cell_type": "code",
   "execution_count": 7,
   "metadata": {},
   "outputs": [],
   "source": [
    "# ЗАДАЧА 2 УДАЛЕНИЕ ПОВТОРОВ\n",
    "\n",
    "# '''Напишите функцию функцию, которая будет будет будет будет удалять \n",
    "# все все все все последовательные повторы слов из из из из заданной строки строки при помощи регулярных выражений'''\n",
    "\n",
    "def del_double():\n",
    "    some_string = input('Введите строку:')\n",
    "    result = re.sub(r'(\\w+)\\s+\\1', r'\\1', some_string)\n",
    "    print(result)"
   ]
  },
  {
   "cell_type": "code",
   "execution_count": 8,
   "metadata": {},
   "outputs": [],
   "source": [
    "# ЗАДАЧА 3 АКРОНИМЫ\n",
    "\n",
    "def acronyms():\n",
    "    some_words = input('Введите фразу:')\n",
    "    acronym = re.sub(r'(\\w)\\w+', r'\\1', some_words).upper()\n",
    "    result = acronym.replace(\" \",'')\n",
    "    print(result)\n"
   ]
  },
  {
   "cell_type": "code",
   "execution_count": 5,
   "metadata": {},
   "outputs": [],
   "source": [
    "# ЗАДАЧА 4 РАСПРЕДЕЛЕНИЕ ПО ДОМЕННЫМ ЗОНАМ\n",
    "\n",
    "def domens():\n",
    "    emails = input(\"Введите адреса:\")\n",
    "    list_adress = re.findall(r'\\w+\\.\\w+(?<!@)', emails)\n",
    "    dict_adress = {}\n",
    "    for adress in list_adress:\n",
    "        if adress not in dict_adress:\n",
    "            dict_adress[adress] = 1\n",
    "        else:\n",
    "            dict_adress[adress] += 1\n",
    "    print('Распределение по доменным зонам:')\n",
    "    for adres, count in dict_adress.items():\n",
    "        print(f'{adres} - {count}')\n"
   ]
  },
  {
   "cell_type": "code",
   "execution_count": 9,
   "metadata": {},
   "outputs": [
    {
     "name": "stdout",
     "output_type": "stream",
     "text": [
      "Номер машины:ААА1241\n",
      "Номер не валиден\n",
      "Введите строку:повторы повторы удали удали\n",
      "повторы удали\n",
      "Введите фразу:организация объединенных наций\n",
      "ООН\n",
      "Введите адреса:'test@gmail.com', 'xyz@test.in', 'test@ya.ru', 'xyz@mail.ru', 'xyz@ya.ru', 'xyz@gmail.com'\n",
      "Распределение по доменным зонам:\n",
      "gmail.com - 2\n",
      "test.in - 1\n",
      "ya.ru - 2\n",
      "mail.ru - 1\n"
     ]
    }
   ],
   "source": [
    "valid_number()\n",
    "del_double()\n",
    "acronyms()\n",
    "domens()"
   ]
  }
 ],
 "metadata": {
  "kernelspec": {
   "display_name": "Python 3",
   "language": "python",
   "name": "python3"
  },
  "language_info": {
   "codemirror_mode": {
    "name": "ipython",
    "version": 3
   },
   "file_extension": ".py",
   "mimetype": "text/x-python",
   "name": "python",
   "nbconvert_exporter": "python",
   "pygments_lexer": "ipython3",
   "version": "3.8.3"
  }
 },
 "nbformat": 4,
 "nbformat_minor": 4
}
