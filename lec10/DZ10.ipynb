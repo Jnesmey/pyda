{
 "cells": [
  {
   "cell_type": "code",
   "execution_count": 1,
   "metadata": {},
   "outputs": [],
   "source": [
    "import numpy as np"
   ]
  },
  {
   "cell_type": "code",
   "execution_count": 2,
   "metadata": {},
   "outputs": [
    {
     "name": "stdout",
     "output_type": "stream",
     "text": [
      "Число элементов массива: 3\n",
      "[2 1 0]\n"
     ]
    }
   ],
   "source": [
    "# ЗАДАНИЕ 1 СОЗДАНИЕ ARRAY\n",
    "\n",
    "n = int(input(\"Число элементов массива: \"))\n",
    "n_array = np.arange(n-1, -1, -1)\n",
    "print(n_array)\n"
   ]
  },
  {
   "cell_type": "code",
   "execution_count": 3,
   "metadata": {},
   "outputs": [
    {
     "name": "stdout",
     "output_type": "stream",
     "text": [
      "Начальный элемент для диагональной матрицы: 3\n",
      "[[3 0 0 0]\n",
      " [0 2 0 0]\n",
      " [0 0 1 0]\n",
      " [0 0 0 0]]\n"
     ]
    },
    {
     "data": {
      "text/plain": [
       "6"
      ]
     },
     "execution_count": 3,
     "metadata": {},
     "output_type": "execute_result"
    }
   ],
   "source": [
    "# ЗАДАНИЕ 2 СОЗДАНИЕ ДИАГОНАЛЬНОЙ МАТРИЦЫ\n",
    "\n",
    "n = int(input(\"Начальный элемент для диагональной матрицы: \"))\n",
    "diag_matx = np.diag(np.arange(n, -1, -1))\n",
    "print(diag_matx)\n",
    "sum(sum(diag_matx))\n"
   ]
  },
  {
   "cell_type": "code",
   "execution_count": 4,
   "metadata": {},
   "outputs": [
    {
     "data": {
      "text/plain": [
       "array([ 0.46666667,  3.84444444, -5.55555556])"
      ]
     },
     "execution_count": 4,
     "metadata": {},
     "output_type": "execute_result"
    }
   ],
   "source": [
    "# ЗАДАНИЕ 3 РЕШЕНИЕ УРАВНЕНИЙ\n",
    "# 4x + 2y + z = 4\n",
    "# x + 3y = 12\n",
    "# 5y + 4z = -3\n",
    "\n",
    "coef = np.array([[4,2,1],[1,3,0],[0,5,4]])\n",
    "values = np.array([4,12,-3])\n",
    "from numpy import linalg\n",
    "linalg.solve(coef,values)"
   ]
  },
  {
   "cell_type": "code",
   "execution_count": 5,
   "metadata": {},
   "outputs": [
    {
     "name": "stdout",
     "output_type": "stream",
     "text": [
      "Минимальное расстояние - 0.0 \n",
      "Максимально похожий пользователь - [0 0 0 0 0 5] \n"
     ]
    }
   ],
   "source": [
    "# ЗАДАНИЕ 4 ВЕКТОРЫ\n",
    "\n",
    "users_stats = np.array(\n",
    "    [\n",
    "        [2, 1, 0, 0, 0, 0],\n",
    "        [1, 1, 2, 1, 0, 0],\n",
    "        [2, 0, 1, 0, 0, 0],\n",
    "        [1, 1, 2, 1, 0, 1],\n",
    "        [0, 0, 1, 2, 0, 0],\n",
    "        [0, 0, 0, 0, 0, 5],\n",
    "        [1, 0, 0, 0, 0, 0],\n",
    "        [0, 1, 1, 0, 0, 0],\n",
    "        [0, 0, 0, 1, 1, 3],\n",
    "        [1, 5, 4, 8, 1, 4]\n",
    "        \n",
    "    ], \n",
    "    np.int32\n",
    ")\n",
    "\n",
    "next_user_stats = np.array([0, 1, 2, 0, 0, 0])\n",
    "\n",
    "min_cos = 1\n",
    "the_most_similar = 0\n",
    "\n",
    "for user in users_stats:\n",
    "    cosin = np.dot(next_user_stats, user)/(np.linalg.norm( user )* np.linalg.norm( next_user_stats ))\n",
    "    if cosin < min_cos:\n",
    "        min_cos = cosin\n",
    "        the_most_similar = user\n",
    "print(f'Минимальное расстояние - {min_cos} \\nМаксимально похожий пользователь - {the_most_similar} ')"
   ]
  }
 ],
 "metadata": {
  "kernelspec": {
   "display_name": "Python 3",
   "language": "python",
   "name": "python3"
  },
  "language_info": {
   "codemirror_mode": {
    "name": "ipython",
    "version": 3
   },
   "file_extension": ".py",
   "mimetype": "text/x-python",
   "name": "python",
   "nbconvert_exporter": "python",
   "pygments_lexer": "ipython3",
   "version": "3.8.3"
  }
 },
 "nbformat": 4,
 "nbformat_minor": 4
}
