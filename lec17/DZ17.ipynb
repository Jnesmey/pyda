{
 "cells": [
  {
   "cell_type": "code",
   "execution_count": 6,
   "metadata": {},
   "outputs": [],
   "source": [
    "import numpy as np"
   ]
  },
  {
   "cell_type": "code",
   "execution_count": 72,
   "metadata": {},
   "outputs": [
    {
     "name": "stdout",
     "output_type": "stream",
     "text": [
      "Средний выигрыш с одного рубля составит 82.24900000000001 копеек\n"
     ]
    }
   ],
   "source": [
    "# Сколько в среднем теряет игрок? - Моделирование\n",
    "\n",
    "trials = 100000    # Количество попыток\n",
    "successes = 0    # Сумма выигрыша\n",
    "\n",
    "for i in range(trials):\n",
    "    random_score = np.random.randint(0,1000)    # Случайное количество \n",
    "    if random_score == 777:\n",
    "        successes += 200\n",
    "    elif random_score == 999:\n",
    "        successes += 100\n",
    "    elif random_score == 555:\n",
    "        successes += 50\n",
    "    elif random_score == 333:\n",
    "        successes += 15\n",
    "    elif random_score == 111:\n",
    "        successes += 10\n",
    "    elif random_score % 100 == 77:\n",
    "        successes += 5\n",
    "    elif random_score % 10 == 7:\n",
    "        successes += 3\n",
    "    elif random_score % 100 == 0:\n",
    "        successes += 2\n",
    "    elif random_score % 10 == 0:\n",
    "        successes += 1\n",
    "        \n",
    "profit = successes / trials    #  Количество попыток равно потраченной сумме в рублях\n",
    "\n",
    "print(f'Средний выигрыш с одного рубля составит {profit*100} копеек')"
   ]
  },
  {
   "cell_type": "code",
   "execution_count": 74,
   "metadata": {},
   "outputs": [
    {
     "name": "stdout",
     "output_type": "stream",
     "text": [
      "Теоретический выигрыш - 84.5 копеек с рубля\n"
     ]
    }
   ],
   "source": [
    "# Сколько в среднем теряет игрок? - Теоретический расчет\n",
    "\n",
    "# Все возможные исходы - все размещения с повторениями по 3 элемента из 10:\n",
    "n = 10\n",
    "m = 3\n",
    "N = n**m\n",
    "\n",
    "# Благоприятные исходы и из вероятности:\n",
    "# Для каждого трехзначного из выигрышных вариантов вероятность 1/1000\n",
    "\n",
    "A1 = (200 + 100 + 50 + 15 +10) * 1/N\n",
    "\n",
    "# Для *77 и *00 возможно 10 комбинаций (вместо звездочек возможны размещения по 1 из 10) - вероятность 10/1000\n",
    "A2 = (5 + 2) * 10/N\n",
    "\n",
    "# Для **7 и **0 возможно 100 комбинаций (вместо звездочек возможны размещения по 2 из 10) - вероятность 100/1000\n",
    "A3 = (3 + 1) * 100/N\n",
    "\n",
    "p = A1+A2+A3 \n",
    "print(f'Теоретический выигрыш - {p*100} копеек с рубля')"
   ]
  }
 ],
 "metadata": {
  "kernelspec": {
   "display_name": "Python 3",
   "language": "python",
   "name": "python3"
  },
  "language_info": {
   "codemirror_mode": {
    "name": "ipython",
    "version": 3
   },
   "file_extension": ".py",
   "mimetype": "text/x-python",
   "name": "python",
   "nbconvert_exporter": "python",
   "pygments_lexer": "ipython3",
   "version": "3.8.3"
  }
 },
 "nbformat": 4,
 "nbformat_minor": 4
}
